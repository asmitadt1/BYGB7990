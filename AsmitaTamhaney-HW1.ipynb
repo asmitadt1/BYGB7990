{
 "cells": [
  {
   "cell_type": "markdown",
   "id": "cd995e8b",
   "metadata": {},
   "source": [
    "# First Programming Project"
   ]
  },
  {
   "cell_type": "markdown",
   "id": "2d8bac47",
   "metadata": {},
   "source": [
    "### Q-1: Find out Energy needed to heat water from initial temperature to final temperature"
   ]
  },
  {
   "cell_type": "code",
   "execution_count": 1,
   "id": "5da59428",
   "metadata": {},
   "outputs": [
    {
     "name": "stdout",
     "output_type": "stream",
     "text": [
      "Enter weight of water being heated in kg: 2.8\n",
      "Enter inital temperature in degree Celcius: 12.5\n",
      "Enter final temperature in degree Celcius: 30\n",
      "\n",
      "The energy needed to heat water = 205016.0 joules\n"
     ]
    }
   ],
   "source": [
    "#Calculate energy using values for inital temperature, final temperature and quantity of water being heated\n",
    "\n",
    "#Ask user to put input for weight, inital temp and final temp\n",
    "\n",
    "weight = float (input(\"Enter weight of water being heated in kg: \"))\n",
    "initial_temp = float (input(\"Enter inital temperature in degree Celcius: \"))\n",
    "final_temp = float (input(\"Enter final temperature in degree Celcius: \"))\n",
    "\n",
    "#Energy calculation formula\n",
    "energy = weight * (final_temp - initial_temp) * 4184\n",
    "\n",
    "print(\"\\nThe energy needed to heat water =\", energy, \"joules\")"
   ]
  },
  {
   "cell_type": "markdown",
   "id": "eb5b17b8",
   "metadata": {},
   "source": [
    "### Q-2: Calculate Body Mass Index (BMI)"
   ]
  },
  {
   "cell_type": "code",
   "execution_count": 7,
   "id": "4ee2ecb2",
   "metadata": {},
   "outputs": [
    {
     "name": "stdout",
     "output_type": "stream",
     "text": [
      "Enter your height in inches: 64.50\n",
      "Enter your weight in lbs.: 171\n",
      "Your height =  64.5 inches and weight =  171.0 lbs., and your corresponding BMI = 28.9\n",
      "\n",
      "You are Overweight, please exercise\n"
     ]
    }
   ],
   "source": [
    "#This program calculates Body Mass Index (BMI) using height and weight\n",
    "\n",
    "#Get user input for height and weight\n",
    "height = float (input(\"Enter your height in inches: \"))\n",
    "weight = float (input (\"Enter your weight in lbs.: \"))\n",
    "\n",
    "#BMI Calculation formula\n",
    "bmi = 703 * ((weight)/(height**2))\n",
    "\n",
    "print(\"Your height = \", height, \"inches and weight = \", weight, \"lbs., and your corresponding BMI =\", round(bmi,2))\n",
    "\n",
    "#Categorization of BMI as per National Institutes Health (NIH)\n",
    "if bmi < 18.5:\n",
    "    print(\"\\nYour are Under weight\")\n",
    "elif 18.5 <= bmi < 25:\n",
    "    print(\"\\nCongralutions! you have Normal weight\")\n",
    "elif 25 <= bmi < 30:\n",
    "    print(\"\\nYou are Overweight, please exercise\")\n",
    "else:\n",
    "    print(\"\\nYou are Obese, need to take corrective measures\")"
   ]
  },
  {
   "cell_type": "markdown",
   "id": "15928c21",
   "metadata": {},
   "source": [
    "### Q-3 Calculate total cost of purchase"
   ]
  },
  {
   "cell_type": "code",
   "execution_count": 1,
   "id": "001d67d0",
   "metadata": {},
   "outputs": [
    {
     "name": "stdout",
     "output_type": "stream",
     "text": [
      "Enter price of item: $ 46.50\n",
      "Total cost of purchase is $ 50.06\n"
     ]
    }
   ],
   "source": [
    "#This program calculates total cost of purchase using price of item, sales tax and total cost\n",
    "\n",
    "#Get user input for sales tax and price\n",
    "price = float (input(\"Enter price of item: $ \"))\n",
    "\n",
    "#Conditions for price and respective sales tax\n",
    "if price < 15.00:\n",
    "    sales_tax = 0.017 * price    #sales tax rate is 1.7%\n",
    "else:\n",
    "    sales_tax = 0.0765 * price   # sales tax rate is 7.65%\n",
    "\n",
    "#Total cost calculation\n",
    "total_cost = price + sales_tax\n",
    "\n",
    "print(\"Total cost of purchase is $\",round(total_cost,2))"
   ]
  },
  {
   "cell_type": "markdown",
   "id": "4a55e35e",
   "metadata": {},
   "source": [
    "### Q-4: Eligibilty check for President's Scholarship"
   ]
  },
  {
   "cell_type": "code",
   "execution_count": 2,
   "id": "29281d57",
   "metadata": {},
   "outputs": [
    {
     "name": "stdout",
     "output_type": "stream",
     "text": [
      "Enter your seniority: Junior\n",
      "Enter your GPA: 3.7\n",
      "\n",
      "Congratulations! You are eligible to apply for President's scholarship\n"
     ]
    }
   ],
   "source": [
    "# Program checks for eligibility of student candidates for President's Scholarship\n",
    "\n",
    "seniority = str (input(\"Enter your seniority: \"))\n",
    "gpa = float (input(\"Enter your GPA: \"))\n",
    "\n",
    "#Conditions for seniority and gpa\n",
    "if gpa >= 3.3 and seniority.lower() == \"senior\":\n",
    "    print(\"\\nCongratulations! You are eligible to apply for President's scholarship\")\n",
    "elif gpa >= 3.6 and seniority.lower() == \"junior\":\n",
    "    print(\"\\nCongratulations! You are eligible to apply for President's scholarship\")\n",
    "else:\n",
    "    print(\"\\nSorry you can not apply for President's scholarship. Try next time\")"
   ]
  }
 ],
 "metadata": {
  "kernelspec": {
   "display_name": "Python 3",
   "language": "python",
   "name": "python3"
  },
  "language_info": {
   "codemirror_mode": {
    "name": "ipython",
    "version": 3
   },
   "file_extension": ".py",
   "mimetype": "text/x-python",
   "name": "python",
   "nbconvert_exporter": "python",
   "pygments_lexer": "ipython3",
   "version": "3.8.8"
  }
 },
 "nbformat": 4,
 "nbformat_minor": 5
}
